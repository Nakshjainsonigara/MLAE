{
 "cells": [
  {
   "metadata": {},
   "cell_type": "markdown",
   "source": "# Building Logistic Regression",
   "id": "d05832ac923daeb"
  },
  {
   "metadata": {},
   "cell_type": "markdown",
   "source": "This document represents the implementation of a logistic regression model from scratch to try out my learning. Logistic regression comes from the Bernoulli distribution in the Exponential family, which is why we use the sigmoid function to model it. It does not have a closed-form solution, so we need to maximize the likelihood or minimize the negative log-likelihood using gradient descent to fit the model. I have used the Iris dataset and fitted the model using gradient descent. Finally, the decision boundary is plotted, and the sklearn inbuilt model is shown for comparison.",
   "id": "a1f9d17c35bbaaf6"
  },
  {
   "metadata": {
    "collapsed": true,
    "ExecuteTime": {
     "end_time": "2024-12-17T07:59:35.339451Z",
     "start_time": "2024-12-17T07:59:35.334165Z"
    }
   },
   "cell_type": "code",
   "source": [
    "import seaborn as sns\n",
    "import numpy as np\n",
    "import pandas as pd\n",
    "import matplotlib.pyplot as plt\n",
    "from sklearn.model_selection import train_test_split\n",
    "from sklearn.preprocessing import StandardScaler\n",
    "from sklearn.preprocessing import add_dummy_feature\n",
    "import warnings\n",
    "warnings.filterwarnings(\"ignore\")"
   ],
   "id": "initial_id",
   "outputs": [],
   "execution_count": 189
  },
  {
   "metadata": {
    "ExecuteTime": {
     "end_time": "2024-12-17T07:59:59.702828Z",
     "start_time": "2024-12-17T07:59:59.692022Z"
    }
   },
   "cell_type": "code",
   "source": [
    "df = sns.load_dataset(\"iris\")\n",
    "m=df[df['species']==\"versicolor\"].index.to_list()\n",
    "df=df[~df.index.isin(m)]\n",
    "df['species']=df['species'].map(lambda x:1 if x==\"setosa\" else 0)"
   ],
   "id": "acc9e8d67c7237d1",
   "outputs": [],
   "execution_count": 200
  },
  {
   "metadata": {
    "ExecuteTime": {
     "end_time": "2024-12-17T08:10:20.302991Z",
     "start_time": "2024-12-17T08:10:20.284773Z"
    }
   },
   "cell_type": "code",
   "source": [
    "X = df[[\"sepal_length\"]]\n",
    "y= df[[\"species\"]]\n",
    "X_train,X_test,y_train,y_test=train_test_split(X,y,test_size=0.2)\n",
    "\n",
    "#sclaing is required for this data\n",
    "scaler = StandardScaler()\n",
    "X_train=scaler.fit_transform(X_train)\n",
    "X_test=scaler.transform(X_test)\n",
    "\n",
    "#dummy-bias feature (x0=1)\n",
    "X_train = np.hstack((np.ones((X_train.shape[0], 1)), X_train))\n",
    "X_test = np.hstack((np.ones((X_test.shape[0], 1)), X_test))"
   ],
   "id": "b62e2f0f56ef2f0f",
   "outputs": [],
   "execution_count": 206
  },
  {
   "metadata": {
    "ExecuteTime": {
     "end_time": "2024-12-17T08:10:23.167615Z",
     "start_time": "2024-12-17T08:10:23.141245Z"
    }
   },
   "cell_type": "code",
   "source": [
    "def sigmoid(z):\n",
    "    return 1/(1+np.exp(-z))\n",
    "\n",
    "def logloss(y_true, y_pred):\n",
    "    eplison = 1e-15\n",
    "    y_pred = np.clip(y_pred, eplison, 1 - eplison)\n",
    "    return -np.mean(y_true*np.log(y_pred)+(1-y_true)*np.log(1-y_pred))\n",
    "\n",
    "def gradient_descent(X,y,alpha,iter):\n",
    "    y=y.values.reshape(-1,1)\n",
    "    m,n=X.shape\n",
    "    theta = np.zeros((n, 1))\n",
    "    \n",
    "    for i in range(iter):\n",
    "        y_pred=sigmoid(np.dot(X,theta))\n",
    "        theta-= alpha*(1/m)*np.dot(X.T,(y_pred-y))\n",
    "        \n",
    "        if i%100==0:\n",
    "            cost =logloss(y,y_pred)\n",
    "            print(f\"Iteration {i}, Log Loss: {cost}\")\n",
    "            \n",
    "    return theta\n",
    "\n",
    "def predict(X, theta):\n",
    "    y_pred=sigmoid(np.dot(X,theta))\n",
    "    y_pred_class = [1 if i > 0.5 else 0 for i in y_pred]\n",
    "    return np.array(y_pred_class)\n",
    "\n",
    "theta=gradient_descent(X_train,y_train,0.1,1000)\n",
    "print(theta)"
   ],
   "id": "dad02dcc2c3d36b5",
   "outputs": [
    {
     "name": "stdout",
     "output_type": "stream",
     "text": [
      "Iteration 0, Log Loss: 0.6931471805599453\n",
      "Iteration 100, Log Loss: 0.2523671577662693\n",
      "Iteration 200, Log Loss: 0.19673740022310837\n",
      "Iteration 300, Log Loss: 0.17451881014571277\n",
      "Iteration 400, Log Loss: 0.1625485449936483\n",
      "Iteration 500, Log Loss: 0.15510803761168793\n",
      "Iteration 600, Log Loss: 0.15007340419070325\n",
      "Iteration 700, Log Loss: 0.14646891630147735\n",
      "Iteration 800, Log Loss: 0.14378224721422952\n",
      "Iteration 900, Log Loss: 0.1417182905853419\n",
      "[[-0.74529965]\n",
      " [-4.51823334]]\n"
     ]
    }
   ],
   "execution_count": 207
  },
  {
   "metadata": {
    "ExecuteTime": {
     "end_time": "2024-12-17T08:10:26.525054Z",
     "start_time": "2024-12-17T08:10:26.501422Z"
    }
   },
   "cell_type": "code",
   "source": [
    "from sklearn.metrics import classification_report,accuracy_score\n",
    "print(classification_report(y_test,predict(X_test,theta)))\n",
    "print(accuracy_score(y_test,predict(X_test,theta)))"
   ],
   "id": "a6e48553594c799d",
   "outputs": [
    {
     "name": "stdout",
     "output_type": "stream",
     "text": [
      "              precision    recall  f1-score   support\n",
      "\n",
      "           0       0.90      1.00      0.95         9\n",
      "           1       1.00      0.91      0.95        11\n",
      "\n",
      "    accuracy                           0.95        20\n",
      "   macro avg       0.95      0.95      0.95        20\n",
      "weighted avg       0.96      0.95      0.95        20\n",
      "\n",
      "0.95\n"
     ]
    }
   ],
   "execution_count": 208
  },
  {
   "metadata": {
    "ExecuteTime": {
     "end_time": "2024-12-17T08:10:29.289068Z",
     "start_time": "2024-12-17T08:10:28.981049Z"
    }
   },
   "cell_type": "code",
   "source": [
    "x_values = np.linspace(X_train[:, 1].min(), X_train[:, 1].max(), 100)\n",
    "y_values = sigmoid(np.dot(np.c_[np.ones_like(x_values), x_values], theta))\n",
    "\n",
    "plt.scatter(X_train[:, 1], y_train , edgecolors='k', s=50)\n",
    "\n",
    "plt.plot(x_values, y_values, color=\"green\", linestyle=\"--\", label=\"Decision Boundary\")\n",
    "plt.xlabel(\"Feature\")\n",
    "plt.ylabel(\"Target\")\n",
    "plt.title(\"Logistic Regression Decision Boundary\")\n",
    "plt.legend()\n",
    "plt.show()"
   ],
   "id": "4b79dfccb32d22c2",
   "outputs": [
    {
     "data": {
      "text/plain": [
       "<Figure size 640x480 with 1 Axes>"
      ],
      "image/png": "[encoded data removed]"
     },
     "metadata": {},
     "output_type": "display_data"
    }
   ],
   "execution_count": 209
  },
  {
   "metadata": {},
   "cell_type": "markdown",
   "source": "# LogisticRegression Model",
   "id": "2eb4bb1ba6301840"
  },
  {
   "metadata": {
    "ExecuteTime": {
     "end_time": "2024-12-17T08:10:47.987136Z",
     "start_time": "2024-12-17T08:10:47.968283Z"
    }
   },
   "cell_type": "code",
   "source": [
    "log_reg = LogisticRegression()\n",
    "log_reg.fit(X_train, y_train)\n",
    "y_pred=log_reg.predict(X_test)\n",
    "accuracy_score(y_test, y_pred)"
   ],
   "id": "34ed50c4e2aaa501",
   "outputs": [
    {
     "data": {
      "text/plain": [
       "0.95"
      ]
     },
     "execution_count": 210,
     "metadata": {},
     "output_type": "execute_result"
    }
   ],
   "execution_count": 210
  }
 ],
 "metadata": {
  "kernelspec": {
   "display_name": "Python 3",
   "language": "python",
   "name": "python3"
  },
  "language_info": {
   "codemirror_mode": {
    "name": "ipython",
    "version": 2
   },
   "file_extension": ".py",
   "mimetype": "text/x-python",
   "name": "python",
   "nbconvert_exporter": "python",
   "pygments_lexer": "ipython2",
   "version": "2.7.6"
  }
 },
 "nbformat": 4,
 "nbformat_minor": 5
}
